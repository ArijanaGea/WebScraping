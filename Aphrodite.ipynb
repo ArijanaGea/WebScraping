{
 "cells": [
  {
   "cell_type": "code",
   "execution_count": 9,
   "metadata": {
    "scrolled": true
   },
   "outputs": [
    {
     "name": "stdout",
     "output_type": "stream",
     "text": [
      "Aphrodite\n",
      "Red\n",
      "Mount Olympus\n",
      "Dove\n",
      "['Aphrodite', 'Red', 'Mount Olympus', 'Dove']\n"
     ]
    }
   ],
   "source": [
    "import re\n",
    "from urllib.request import urlopen\n",
    "url = \"http://olympus.realpython.org/profiles/aphrodite\"\n",
    "html_page = urlopen(url)\n",
    "html_text = html_page.read().decode(\"utf-8\")\n",
    "\n",
    "\n",
    "lista_aphrodite=[]\n",
    "\n",
    "for string in [\"Name: \", \"Favorite color:\", \"Hometown:\", \"Favorite animal:\"]:\n",
    "    string_start_idx = html_text.find(string)\n",
    "    text_start_idx = string_start_idx + len(string)\n",
    "\n",
    "    next_html_tag_offset = html_text[text_start_idx:].find(\"<\")\n",
    "    text_end_idx = text_start_idx + next_html_tag_offset\n",
    "\n",
    "    raw_text = html_text[text_start_idx : text_end_idx]\n",
    "    clean_text = raw_text.strip(\" \\r\\n\\t\")\n",
    "    print(clean_text)\n",
    "\n",
    "    lista_aphrodite.append(clean_text)\n",
    "    \n",
    "print(lista_aphrodite)\n",
    "    \n",
    "#lista_keys=[\"Name \", \"Favorite color\", \"Hometown\", \"Favorite animal\"]\n",
    "#dict_aphrodite=dict(zip(lista_keys, lista_aphrodite))\n",
    "\n",
    "#print(dict_aphrodite)"
   ]
  },
  {
   "cell_type": "code",
   "execution_count": null,
   "metadata": {},
   "outputs": [],
   "source": []
  }
 ],
 "metadata": {
  "kernelspec": {
   "display_name": "Python 3",
   "language": "python",
   "name": "python3"
  },
  "language_info": {
   "codemirror_mode": {
    "name": "ipython",
    "version": 3
   },
   "file_extension": ".py",
   "mimetype": "text/x-python",
   "name": "python",
   "nbconvert_exporter": "python",
   "pygments_lexer": "ipython3",
   "version": "3.8.3"
  }
 },
 "nbformat": 4,
 "nbformat_minor": 4
}
