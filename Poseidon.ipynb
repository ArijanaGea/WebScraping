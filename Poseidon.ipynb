{
 "cells": [
  {
   "cell_type": "code",
   "execution_count": 1,
   "metadata": {},
   "outputs": [
    {
     "name": "stdout",
     "output_type": "stream",
     "text": [
      "Poseidon\n",
      "Blue\n",
      "Sea\n",
      "Dolphin\n",
      "['Poseidon', 'Blue', 'Sea', 'Dolphin']\n"
     ]
    }
   ],
   "source": [
    "import re\n",
    "from urllib.request import urlopen\n",
    "url = \"http://olympus.realpython.org/profiles/poseidon\"\n",
    "html_page = urlopen(url)\n",
    "html_text = html_page.read().decode(\"utf-8\")\n",
    "\n",
    "\n",
    "lista_poseidon=[]\n",
    "\n",
    "for string in [\"Name: \", \"Favorite color:\", \"Hometown:\", \"Favorite animal:\"]:\n",
    "    string_start_idx = html_text.find(string)\n",
    "    text_start_idx = string_start_idx + len(string)\n",
    "\n",
    "    next_html_tag_offset = html_text[text_start_idx:].find(\"<\")\n",
    "    text_end_idx = text_start_idx + next_html_tag_offset\n",
    "\n",
    "    raw_text = html_text[text_start_idx : text_end_idx]\n",
    "    clean_text = raw_text.strip(\" \\r\\n\\t\")\n",
    "    print(clean_text)\n",
    "\n",
    "    lista_poseidon.append(clean_text)\n",
    "\n",
    "print(lista_poseidon)\n",
    "    \n",
    "#lista_keys=[\"Name \", \"Favorite color\", \"Hometown\", \"Favorite animal\"]\n",
    "#dict_poseidon=dict(zip(lista_keys, lista_poseidon))\n",
    "#print(dict_poseidon)"
   ]
  },
  {
   "cell_type": "code",
   "execution_count": null,
   "metadata": {},
   "outputs": [],
   "source": []
  }
 ],
 "metadata": {
  "kernelspec": {
   "display_name": "Python 3",
   "language": "python",
   "name": "python3"
  },
  "language_info": {
   "codemirror_mode": {
    "name": "ipython",
    "version": 3
   },
   "file_extension": ".py",
   "mimetype": "text/x-python",
   "name": "python",
   "nbconvert_exporter": "python",
   "pygments_lexer": "ipython3",
   "version": "3.8.3"
  }
 },
 "nbformat": 4,
 "nbformat_minor": 4
}
